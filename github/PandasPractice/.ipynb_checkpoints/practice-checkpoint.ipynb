{
 "cells": [
  {
   "cell_type": "code",
   "execution_count": 10,
   "metadata": {},
   "outputs": [
    {
     "name": "stdout",
     "output_type": "stream",
     "text": [
      "   ID          Address           City             State Country         Name  \\\n",
      "0   1     3666 21st St  San Francisco          CA 94114     USA      Madeira   \n",
      "1   2   735 Dolores St  San Francisco          CA 94119     USA  Bready Shop   \n",
      "2   3      332 Hill St  San Francisco  California 94114     USA  Super River   \n",
      "3   4     3995 23rd St  San Francisco          CA 94114     USA   Ben's Shop   \n",
      "4   5  1056 Sanchez St  San Francisco        California     USA      Sanchez   \n",
      "5   6  551 Alvarado St  San Francisco          CA 94114     USA   Richvalley   \n",
      "\n",
      "   Employees  \n",
      "0          8  \n",
      "1         15  \n",
      "2         25  \n",
      "3         10  \n",
      "4         12  \n",
      "5         20  \n",
      "   ID          Address           City             State Country         Name  \\\n",
      "0   1     3666 21st St  San Francisco          CA 94114     USA      Madeira   \n",
      "1   2   735 Dolores St  San Francisco          CA 94119     USA  Bready Shop   \n",
      "2   3      332 Hill St  San Francisco  California 94114     USA  Super River   \n",
      "3   4     3995 23rd St  San Francisco          CA 94114     USA   Ben's Shop   \n",
      "4   5  1056 Sanchez St  San Francisco        California     USA      Sanchez   \n",
      "5   6  551 Alvarado St  San Francisco          CA 94114     USA   Richvalley   \n",
      "\n",
      "   Employees  \n",
      "0          8  \n",
      "1         15  \n",
      "2         25  \n",
      "3         10  \n",
      "4         12  \n",
      "5         20  \n",
      "           Address           City Country  Employees  ID         Name  \\\n",
      "0     3666 21st St  San Francisco     USA          8   1      Madeira   \n",
      "1   735 Dolores St  San Francisco     USA         15   2  Bready Shop   \n",
      "2      332 Hill St  San Francisco     USA         25   3  Super River   \n",
      "3     3995 23rd St  San Francisco     USA         10   4   Ben's Shop   \n",
      "4  1056 Sanchez St  San Francisco     USA         12   5      Sanchez   \n",
      "5  551 Alvarado St  San Francisco     USA         20   6   Richvalley   \n",
      "\n",
      "              State  \n",
      "0          CA 94114  \n",
      "1          CA 94119  \n",
      "2  California 94114  \n",
      "3          CA 94114  \n",
      "4        California  \n",
      "5          CA 94114  \n"
     ]
    }
   ],
   "source": [
    "import pandas as py\n",
    "\n",
    "supermarkets1=py.read_csv(\"supermarkets-commas.txt\",delimiter=\",\")\n",
    "supermarkets2=py.read_csv(\"supermarkets.csv\")\n",
    "supermarkets3=py.read_json(\"JSONsupermarkets.json\")\n",
    "print(supermarkets1)\n",
    "print(supermarkets2)\n",
    "print(supermarkets3)"
   ]
  },
  {
   "cell_type": "code",
   "execution_count": 11,
   "metadata": {},
   "outputs": [
    {
     "name": "stdout",
     "output_type": "stream",
     "text": [
      "   ID          Address           City             State Country         Name  \\\n",
      "0   1     3666 21st St  San Francisco          CA 94114     USA      Madeira   \n",
      "1   2   735 Dolores St  San Francisco          CA 94119     USA  Bready Shop   \n",
      "2   3      332 Hill St  San Francisco  California 94114     USA  Super River   \n",
      "3   4     3995 23rd St  San Francisco          CA 94114     USA   Ben's Shop   \n",
      "4   5  1056 Sanchez St  San Francisco        California     USA      Sanchez   \n",
      "\n",
      "   Employees  \n",
      "0          8  \n",
      "1         15  \n",
      "2         25  \n",
      "3         10  \n",
      "4         12  \n"
     ]
    }
   ],
   "source": [
    "print(supermarkets1.head())"
   ]
  },
  {
   "cell_type": "code",
   "execution_count": 12,
   "metadata": {},
   "outputs": [
    {
     "name": "stdout",
     "output_type": "stream",
     "text": [
      "   ID         Address           City             State Country         Name  \\\n",
      "1   2  735 Dolores St  San Francisco          CA 94119     USA  Bready Shop   \n",
      "2   3     332 Hill St  San Francisco  California 94114     USA  Super River   \n",
      "\n",
      "   Employees  \n",
      "1         15  \n",
      "2         25  \n"
     ]
    }
   ],
   "source": [
    "print(supermarkets1.sample(2))"
   ]
  },
  {
   "cell_type": "code",
   "execution_count": 15,
   "metadata": {},
   "outputs": [
    {
     "name": "stdout",
     "output_type": "stream",
     "text": [
      "   ID           City\n",
      "0   1  San Francisco\n",
      "1   2  San Francisco\n",
      "2   3  San Francisco\n",
      "3   4  San Francisco\n",
      "4   5  San Francisco\n",
      "5   6  San Francisco\n"
     ]
    }
   ],
   "source": [
    "print(supermarkets1[[\"ID\",\"City\"]])"
   ]
  }
 ],
 "metadata": {
  "kernelspec": {
   "display_name": "Python 3",
   "language": "python",
   "name": "python3"
  },
  "language_info": {
   "codemirror_mode": {
    "name": "ipython",
    "version": 3
   },
   "file_extension": ".py",
   "mimetype": "text/x-python",
   "name": "python",
   "nbconvert_exporter": "python",
   "pygments_lexer": "ipython3",
   "version": "3.7.3"
  }
 },
 "nbformat": 4,
 "nbformat_minor": 2
}
